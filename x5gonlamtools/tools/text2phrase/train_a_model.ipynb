{
 "cells": [
  {
   "cell_type": "code",
   "execution_count": 1,
   "metadata": {},
   "outputs": [],
   "source": [
    "import os\n",
    "import datetime\n",
    "from text2phraser import train_model"
   ]
  },
  {
   "cell_type": "code",
   "execution_count": 2,
   "metadata": {},
   "outputs": [],
   "source": [
    "corpuspath = \"../../all_text_transcriptions/\"\n",
    "directory = os.scandir(corpuspath)\n",
    "directory = list(directory)"
   ]
  },
  {
   "cell_type": "code",
   "execution_count": 4,
   "metadata": {},
   "outputs": [],
   "source": [
    "texts = []\n",
    "for i, file in enumerate(directory[:1]):\n",
    "    with open(file.path, \"r\") as f:\n",
    "#         avancement = ((i + 1)/len(directory) * 100)\n",
    "#         if int(avancement) % 10 == 0: print(f\"{avancement:.2f} % of file loaded\")\n",
    "        texts.append(\"\".join(f.readlines()))"
   ]
  },
  {
   "cell_type": "code",
   "execution_count": 5,
   "metadata": {},
   "outputs": [
    {
     "name": "stdout",
     "output_type": "stream",
     "text": [
      "Trainning of phraser model\n",
      "phraser saved at ./model/all_text_transciption_model_07-12-2018/2gramsphraser\n",
      "phraser saved at ./model/all_text_transciption_model_07-12-2018/3gramsphraser\n",
      "phraser saved at ./model/all_text_transciption_model_07-12-2018/4gramsphraser\n",
      "phraser saved at ./model/all_text_transciption_model_07-12-2018/5gramsphraser\n"
     ]
    }
   ],
   "source": [
    "savedir = f\"./model/all_text_transciption_model_{datetime.datetime.today().date().isoformat()}\"\n",
    "if not os.path.exists(savedir):\n",
    "    os.makedirs(savedir)\n",
    "train_model(texts, savedir)"
   ]
  }
 ],
 "metadata": {
  "kernelspec": {
   "display_name": "Python 3",
   "language": "python",
   "name": "python3"
  },
  "language_info": {
   "codemirror_mode": {
    "name": "ipython",
    "version": 3
   },
   "file_extension": ".py",
   "mimetype": "text/x-python",
   "name": "python",
   "nbconvert_exporter": "python",
   "pygments_lexer": "ipython3",
   "version": "3.6.6"
  }
 },
 "nbformat": 4,
 "nbformat_minor": 2
}
